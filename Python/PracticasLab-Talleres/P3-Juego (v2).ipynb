{
 "cells": [
  {
   "cell_type": "markdown",
   "id": "e87fdfc4",
   "metadata": {},
   "source": [
    "# PRACTICA JUEGO CONDICIONALES BUCLES\n",
    "\n",
    "\n",
    "## JUEGO DE ADIVINANZAS\n",
    "\n",
    "#### Escribe un programa que coja un número entero del 1 al 100, y los jugadores tienen que tratar de adivinar el número.\n",
    "\n",
    "#### Las reglas son las siguientes:\n",
    "\n",
    "1. Si un jugador escoje un número menor que 1 o mayor que 100, el programa dice \"FUERA DE LÍMITES\"\n",
    "2. En el primer turno del jugador, si está en un rango de 10 del número dice \"¡CALIENTE!\". Si está fuera de ese rango dice \"¡FRIO!\"\n",
    "3. En todas las rondas siguientes, si el jugador se acerca más que la vez anterior, dice \"¡MAS CALIENTE!\". Si está más lejos que la anterior vez dice \"¡MAS FRIO!\"\n",
    "4. Cuando el jugador acierte el número, les dirá que han acertado y cuántos intentos les ha llevado\n",
    "\n",
    "\n",
    "\n"
   ]
  },
  {
   "cell_type": "markdown",
   "id": "1ea418c3",
   "metadata": {},
   "source": [
    "##### PISTAS\n",
    "1. Trata obtener un número aleatorio entre el 1 y el 100\n",
    "2. Haz una introducción de tu juego y explica las reglas\n",
    "3. Crea una lista que almacene los intentos. \n",
    "4. Haz un bucle que evalúe un número. Prueba que funcione primero. While podría ir bien\n",
    "5. Modifica ese bucle para que compare nuestro número con el intento. Si se acierta usa break, si no puedes usar continue y tienes que seguir preguntando al jugador por nuevos intentos"
   ]
  },
  {
   "cell_type": "code",
   "execution_count": null,
   "id": "9d8095d9",
   "metadata": {},
   "outputs": [
    {
     "name": "stdout",
     "output_type": "stream",
     "text": [
      "¡Bienvenido al juego de adivinanzas!\n",
      "Debes adivinar un número entre 1 y 100.\n",
      "Las reglas son:\n",
      "1. Si adivinas un número fuera del rango [1, 100], te diré 'FUERA DE LÍMITES'.\n",
      "2. En tu primer intento, si estás a 10 números del objetivo te diré '¡CALIENTE!', de lo contrario '¡FRÍO!'.\n",
      "3. En los siguientes intentos, si te acercas al número, te diré '¡MÁS CALIENTE!', y si te alejas, '¡MÁS FRÍO!'.\n",
      "4. El juego termina cuando adivines el número. ¡Buena suerte!\n",
      "\n"
     ]
    }
   ],
   "source": [
    "import random\n",
    "\n",
    "# Función para introducir el juego y explicar las reglas\n",
    "def introduccion():\n",
    "    print(\"¡Bienvenido al juego de adivinanzas!\")\n",
    "    print(\"Debes adivinar un número entre 1 y 100.\")\n",
    "    print(\"Las reglas son:\")\n",
    "    print(\"1. Si adivinas un número fuera del rango [1, 100], te diré 'FUERA DE LÍMITES'.\")\n",
    "    print(\"2. En tu primer intento, si estás a 10 números del objetivo te diré '¡CALIENTE!', de lo contrario '¡FRÍO!'.\")\n",
    "    print(\"3. En los siguientes intentos, si te acercas al número, te diré '¡MÁS CALIENTE!', y si te alejas, '¡MÁS FRÍO!'.\")\n",
    "    print(\"4. El juego termina cuando adivines el número. ¡Buena suerte!\\n\")\n",
    "\n",
    "# Función principal del juego\n",
    "def juego_adivinanza():\n",
    "    # Generar un número aleatorio entre 1 y 100\n",
    "    numero_a_adivinar = random.randint(1, 100)\n",
    "    \n",
    "    # Crear una lista para almacenar los intentos del jugador\n",
    "    intentos = []\n",
    "    \n",
    "    # Mostrar las reglas del juego\n",
    "    introduccion()\n",
    "    \n",
    "    # Iniciar el bucle del juego\n",
    "    while True:\n",
    "        try:\n",
    "            # Pedir al jugador que introduzca un número\n",
    "            intento = int(input(\"Adivina un número entre 1 y 100: \"))\n",
    "            \n",
    "            # Regla 1: Comprobar si el número está fuera de los límites\n",
    "            if intento < 1 or intento > 100:\n",
    "                print(\"FUERA DE LÍMITES. Elige un número entre 1 y 100.\")\n",
    "                continue  # Volver a pedir un número válido\n",
    "            \n",
    "            # Almacenar el intento en la lista de intentos\n",
    "            intentos.append(intento)\n",
    "            \n",
    "            # Regla 4: Comprobar si el jugador ha adivinado el número\n",
    "            if intento == numero_a_adivinar:\n",
    "                print(f\"¡Felicidades! Has adivinado el número en {len(intentos)} intentos.\")\n",
    "                break  # Terminar el juego\n",
    "            \n",
    "            # Regla 2: Primer intento del jugador\n",
    "            if len(intentos) == 1:\n",
    "                if abs(intento - numero_a_adivinar) <= 10:\n",
    "                    print(\"¡CALIENTE!\")\n",
    "                else:\n",
    "                    print(\"¡FRÍO!\")\n",
    "            # Regla 3: Intentos posteriores\n",
    "            else:\n",
    "                distancia_anterior = abs(intentos[-2] - numero_a_adivinar)\n",
    "                distancia_actual = abs(intento - numero_a_adivinar)\n",
    "                \n",
    "                if distancia_actual < distancia_anterior:\n",
    "                    print(\"¡MÁS CALIENTE!\")\n",
    "                else:\n",
    "                    print(\"¡MÁS FRÍO!\")\n",
    "                    \n",
    "        except ValueError:\n",
    "            print(\"Entrada inválida. Por favor, introduce un número entero.\")\n",
    "            continue  # Volver a pedir un número\n",
    "\n",
    "# Llamada a la función del juego\n",
    "juego_adivinanza()"
   ]
  }
 ],
 "metadata": {
  "kernelspec": {
   "display_name": "Python 3 (ipykernel)",
   "language": "python",
   "name": "python3"
  },
  "language_info": {
   "codemirror_mode": {
    "name": "ipython",
    "version": 3
   },
   "file_extension": ".py",
   "mimetype": "text/x-python",
   "name": "python",
   "nbconvert_exporter": "python",
   "pygments_lexer": "ipython3",
   "version": "3.12.4"
  }
 },
 "nbformat": 4,
 "nbformat_minor": 5
}
