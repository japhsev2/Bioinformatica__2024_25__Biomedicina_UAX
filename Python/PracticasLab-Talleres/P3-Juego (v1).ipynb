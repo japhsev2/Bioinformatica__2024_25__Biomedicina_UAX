{
 "cells": [
  {
   "cell_type": "markdown",
   "id": "e87fdfc4",
   "metadata": {},
   "source": [
    "# PRACTICA JUEGO CONDICIONALES BUCLES\n",
    "\n",
    "\n",
    "## JUEGO DE ADIVINANZAS\n",
    "\n",
    "#### Escribe un programa que coja un número entero del 1 al 100, y los jugadores tienen que tratar de adivinar el número.\n",
    "\n",
    "#### Las reglas son las siguientes:\n",
    "\n",
    "1. Si un jugador escoje un número menor que 1 o mayor que 100, el programa dice \"FUERA DE LÍMITES\"\n",
    "2. En el primer turno del jugador, si está en un rango de 10 del número dice \"¡CALIENTE!\". Si está fuera de ese rango dice \"¡FRIO!\"\n",
    "3. En todas las rondas siguientes, si el jugador se acerca más que la vez anterior, dice \"¡MAS CALIENTE!\". Si está más lejos que la anterior vez dice \"¡MAS FRIO!\"\n",
    "4. Cuando el jugador acierte el número, les dirá que han acertado y cuántos intentos les ha llevado\n",
    "\n",
    "\n",
    "\n"
   ]
  },
  {
   "cell_type": "markdown",
   "id": "1ea418c3",
   "metadata": {},
   "source": [
    "##### PISTAS\n",
    "1. Trata obtener un número aleatorio entre el 1 y el 100\n",
    "2. Haz una introducción de tu juego y explica las reglas\n",
    "3. Crea una lista que almacene los intentos. \n",
    "4. Haz un bucle que evalúe un número. Prueba que funcione primero. While podría ir bien\n",
    "5. Modifica ese bucle para que compare nuestro número con el intento. Si se acierta usa break, si no puedes usar continue y tienes que seguir preguntando al jugador por nuevos intentos"
   ]
  },
  {
   "cell_type": "code",
   "execution_count": null,
   "id": "9d8095d9",
   "metadata": {},
   "outputs": [
    {
     "name": "stdout",
     "output_type": "stream",
     "text": [
      "¡Bienvenido al juego de adivinar el número!\n",
      "Debes adivinar un número entre 1 y 100.\n",
      "Te daré pistas para que te acerques.\n"
     ]
    }
   ],
   "source": [
    "import random\n",
    "\n",
    "def juego_adivinar():\n",
    "    \"\"\"Juego de adivinar un número entre 1 y 100.\"\"\"\n",
    "\n",
    "    numero_secreto = random.randint(1, 100)\n",
    "    intentos = []\n",
    "\n",
    "    print(\"¡Bienvenido al juego de adivinar el número!\")\n",
    "    print(\"Debes adivinar un número entre 1 y 100.\")\n",
    "    print(\"Te daré pistas para que te acerques.\")\n",
    "\n",
    "    while True:\n",
    "        intento = int(input(\"Ingresa tu número: \"))\n",
    "\n",
    "        # Validación de límites\n",
    "        if intento < 1 or intento > 100:\n",
    "            print(\"¡FUERA DE LÍMITES! Ingresa un número entre 1 y 100.\")\n",
    "            continue\n",
    "\n",
    "        intentos.append(intento)\n",
    "\n",
    "        # Comparación con el número secreto\n",
    "        if intento == numero_secreto:\n",
    "            print(f\"¡Felicidades! Has adivinado el número en {len(intentos)} intentos.\")\n",
    "            break\n",
    "\n",
    "        # Primera pista\n",
    "        if len(intentos) == 1:\n",
    "            if abs(numero_secreto - intento) <= 10:\n",
    "                print(\"¡CALIENTE!\")\n",
    "            else:\n",
    "                print(\"¡FRÍO!\")\n",
    "        # Pistas posteriores\n",
    "        else:\n",
    "            diferencia_actual = abs(numero_secreto - intento)\n",
    "            diferencia_anterior = abs(numero_secreto - intentos[-2])\n",
    "            if diferencia_actual < diferencia_anterior:\n",
    "                print(\"¡MÁS CALIENTE!\")\n",
    "            else:\n",
    "                print(\"¡MÁS FRÍO!\")\n",
    "\n",
    "# Llamada a la función para iniciar el juego\n",
    "juego_adivinar()"
   ]
  }
 ],
 "metadata": {
  "kernelspec": {
   "display_name": "Python 3 (ipykernel)",
   "language": "python",
   "name": "python3"
  },
  "language_info": {
   "codemirror_mode": {
    "name": "ipython",
    "version": 3
   },
   "file_extension": ".py",
   "mimetype": "text/x-python",
   "name": "python",
   "nbconvert_exporter": "python",
   "pygments_lexer": "ipython3",
   "version": "3.12.4"
  }
 },
 "nbformat": 4,
 "nbformat_minor": 5
}
