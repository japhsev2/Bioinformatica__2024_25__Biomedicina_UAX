{
 "cells": [
  {
   "cell_type": "markdown",
   "id": "985e6f9b",
   "metadata": {},
   "source": [
    "# PRACTICA 4\n",
    "\n",
    "### Resuelve los siguientes ejercicios"
   ]
  },
  {
   "cell_type": "markdown",
   "id": "28748e51",
   "metadata": {},
   "source": [
    "##### 1.- Abre el fichero dna.txt, guarda una lista del contenido del archivo. Devuelve su longitud y su primer caracter"
   ]
  },
  {
   "cell_type": "code",
   "execution_count": 117,
   "id": "88679bbc",
   "metadata": {},
   "outputs": [
    {
     "name": "stdout",
     "output_type": "stream",
     "text": [
      "Longitud de la lista: 1\n",
      "Primer carácter: A\n"
     ]
    }
   ],
   "source": [
    "with open('dna.txt', 'r') as file:\n",
    "    dna_list = file.readlines()\n",
    "\n",
    "# Eliminar los caracteres de nueva línea de cada elemento de la lista\n",
    "dna_list = [line.strip() for line in dna_list]\n",
    "\n",
    "# Obtener la longitud de la lista\n",
    "longitud = len(dna_list)\n",
    "\n",
    "# Obtener el primer carácter\n",
    "primer_caracter = dna_list[0][0] if dna_list else None\n",
    "\n",
    "# Imprimir los resultados\n",
    "print(f\"Longitud de la lista: {longitud}\")\n",
    "print(f\"Primer carácter: {primer_caracter}\")"
   ]
  },
  {
   "cell_type": "markdown",
   "id": "9b87396a",
   "metadata": {},
   "source": [
    "##### 2.- Crea dos archivos. Uno almacena los accession que empiezen por 'a' y el otro el resto"
   ]
  },
  {
   "cell_type": "code",
   "execution_count": 34,
   "id": "73957856",
   "metadata": {},
   "outputs": [],
   "source": [
    "accs = ['ab56', 'bh84', 'hv76', 'ay93', 'ap97', 'bd72']"
   ]
  },
  {
   "cell_type": "code",
   "execution_count": 115,
   "id": "8f62bc8f",
   "metadata": {},
   "outputs": [
    {
     "name": "stdout",
     "output_type": "stream",
     "text": [
      "Se han creado dos archivos:\n",
      "1. accession_a.txt - contiene los accession que empiezan por 'a'\n",
      "2. accession_otros.txt - contiene el resto de los accession\n",
      "\n",
      "Contenido de accession_a.txt:\n",
      "ab56\n",
      "ay93\n",
      "ap97\n",
      "\n",
      "\n",
      "Contenido de accession_otros.txt:\n",
      "bh84\n",
      "hv76\n",
      "bd72\n",
      "\n"
     ]
    }
   ],
   "source": [
    "accs = ['ab56', 'bh84', 'hv76', 'ay93', 'ap97', 'bd72']\n",
    "\n",
    "# Separar los accession en dos listas\n",
    "accession_a = [acc for acc in accs if acc.startswith('a')]\n",
    "accession_otros = [acc for acc in accs if not acc.startswith('a')]\n",
    "\n",
    "# Crear y escribir en el archivo para accession que empiezan con 'a'\n",
    "with open('accession_a.txt', 'w') as file_a:\n",
    "    for acc in accession_a:\n",
    "        file_a.write(acc + '\\n')\n",
    "\n",
    "# Crear y escribir en el archivo para el resto de accession\n",
    "with open('accession_otros.txt', 'w') as file_otros:\n",
    "    for acc in accession_otros:\n",
    "        file_otros.write(acc + '\\n')\n",
    "\n",
    "# Imprimir confirmación\n",
    "print(\"Se han creado dos archivos:\")\n",
    "print(\"1. accession_a.txt - contiene los accession que empiezan por 'a'\")\n",
    "print(\"2. accession_otros.txt - contiene el resto de los accession\")\n",
    "\n",
    "# Mostrar el contenido de ambos archivos\n",
    "print(\"\\nContenido de accession_a.txt:\")\n",
    "with open('accession_a.txt', 'r') as file:\n",
    "    print(file.read())\n",
    "\n",
    "print(\"\\nContenido de accession_otros.txt:\")\n",
    "with open('accession_otros.txt', 'r') as file:\n",
    "    print(file.read())"
   ]
  },
  {
   "cell_type": "markdown",
   "id": "9cbb4adf",
   "metadata": {},
   "source": [
    "##### 3.- Imprime solamente los accessions de la lista anterior que empiecen por 'a' y no acaben con '6'. Pista: usa endswith() y startswidth()"
   ]
  },
  {
   "cell_type": "code",
   "execution_count": 119,
   "id": "b32ca419",
   "metadata": {},
   "outputs": [
    {
     "name": "stdout",
     "output_type": "stream",
     "text": [
      "Accessions que empiezan por 'a' y no terminan con '6':\n",
      "ay93\n",
      "ap97\n"
     ]
    }
   ],
   "source": [
    "accs = ['ab56', 'bh84', 'hv76', 'ay93', 'ap97', 'bd72']\n",
    "\n",
    "# Filtrar y imprimir los accessions que empiezan por 'a' y no terminan con '6'\n",
    "print(\"Accessions que empiezan por 'a' y no terminan con '6':\")\n",
    "for acc in accs:\n",
    "    if acc.startswith('a') and not acc.endswith('6'):\n",
    "        print(acc)"
   ]
  },
  {
   "cell_type": "markdown",
   "id": "42c397b0",
   "metadata": {},
   "source": [
    "##### 4.- Escribe una función que cuente el porcentaje de A de una secuencia"
   ]
  },
  {
   "cell_type": "code",
   "execution_count": 44,
   "id": "da633510",
   "metadata": {},
   "outputs": [
    {
     "name": "stdout",
     "output_type": "stream",
     "text": [
      "Porcentaje de A en 'ATGCATGCATGC': 25.0%\n",
      "Porcentaje de A en 'AAAGGGTTTCCC': 25.0%\n",
      "Porcentaje de A en '': 0%\n"
     ]
    }
   ],
   "source": [
    "def porcentaje_a(secuencia):\n",
    "    # Contar el número total de caracteres en la secuencia\n",
    "    total_caracteres = len(secuencia)\n",
    "    \n",
    "    # Contar el número de 'A' (mayúsculas y minúsculas)\n",
    "    numero_a = secuencia.upper().count('A')\n",
    "    \n",
    "    # Calcular el porcentaje\n",
    "    if total_caracteres > 0:\n",
    "        porcentaje = (numero_a / total_caracteres) * 100\n",
    "    else:\n",
    "        porcentaje = 0\n",
    "    \n",
    "    # Devolver el porcentaje redondeado a dos decimales\n",
    "    return round(porcentaje, 2)\n",
    "\n",
    "# Ejemplos de uso\n",
    "secuencia1 = \"ATGCATGCATGC\"\n",
    "secuencia2 = \"AAAGGGTTTCCC\"\n",
    "secuencia3 = \"\"\n",
    "\n",
    "print(f\"Porcentaje de A en '{secuencia1}': {porcentaje_a(secuencia1)}%\")\n",
    "print(f\"Porcentaje de A en '{secuencia2}': {porcentaje_a(secuencia2)}%\")\n",
    "print(f\"Porcentaje de A en '{secuencia3}': {porcentaje_a(secuencia3)}%\")"
   ]
  },
  {
   "cell_type": "markdown",
   "id": "054b8f51",
   "metadata": {},
   "source": [
    "##### ¿Puedes hacer que devuelva dos decimales? ¿Y que lidie con mayúsculas y minúsculas?"
   ]
  },
  {
   "cell_type": "code",
   "execution_count": 46,
   "id": "dc1d5907",
   "metadata": {},
   "outputs": [
    {
     "name": "stdout",
     "output_type": "stream",
     "text": [
      "Porcentaje de A en 'ATGCatgcATGC': 25.00%\n",
      "Porcentaje de A en 'AAAgggtttCCC': 25.00%\n",
      "Porcentaje de A en '': 0.00%\n",
      "Porcentaje de A en 'ATGCATGCATGCA': 30.77%\n"
     ]
    }
   ],
   "source": [
    "def porcentaje_a(secuencia):\n",
    "    # Convertir la secuencia a mayúsculas para manejar mayúsculas y minúsculas\n",
    "    secuencia = secuencia.upper()\n",
    "    \n",
    "    # Contar el número total de caracteres en la secuencia\n",
    "    total_caracteres = len(secuencia)\n",
    "    \n",
    "    # Contar el número de 'A'\n",
    "    numero_a = secuencia.count('A')\n",
    "    \n",
    "    # Calcular el porcentaje\n",
    "    if total_caracteres > 0:\n",
    "        porcentaje = (numero_a / total_caracteres) * 100\n",
    "    else:\n",
    "        porcentaje = 0.00\n",
    "    \n",
    "    # Devolver el porcentaje con exactamente dos decimales\n",
    "    return f\"{porcentaje:.2f}\"\n",
    "\n",
    "# Ejemplos de uso\n",
    "secuencia1 = \"ATGCatgcATGC\"\n",
    "secuencia2 = \"AAAgggtttCCC\"\n",
    "secuencia3 = \"\"\n",
    "secuencia4 = \"ATGCATGCATGCA\"\n",
    "\n",
    "print(f\"Porcentaje de A en '{secuencia1}': {porcentaje_a(secuencia1)}%\")\n",
    "print(f\"Porcentaje de A en '{secuencia2}': {porcentaje_a(secuencia2)}%\")\n",
    "print(f\"Porcentaje de A en '{secuencia3}': {porcentaje_a(secuencia3)}%\")\n",
    "print(f\"Porcentaje de A en '{secuencia4}': {porcentaje_a(secuencia4)}%\")"
   ]
  },
  {
   "cell_type": "markdown",
   "id": "36a03b5f",
   "metadata": {},
   "source": [
    "##### ¿Y que devuelva el número de decimales que yo quiero?"
   ]
  },
  {
   "cell_type": "code",
   "execution_count": 121,
   "id": "1ac51951",
   "metadata": {},
   "outputs": [
    {
     "name": "stdout",
     "output_type": "stream",
     "text": [
      "Porcentaje de A (2 decimales): 25.0 %\n",
      "Porcentaje de A (4 decimales): 25.0 %\n"
     ]
    }
   ],
   "source": [
    "def porcentaje_a(secuencia, decimales=2):\n",
    "  \"\"\"\n",
    "  Calcula el porcentaje de la base nitrogenada 'A' en una secuencia de ADN.\n",
    "\n",
    "  Args:\n",
    "    secuencia: Una cadena de caracteres representando una secuencia de ADN.\n",
    "    decimales: Un entero que indica el número de decimales a los que redondear el resultado.\n",
    "\n",
    "  Returns:\n",
    "    Un flotante representando el porcentaje de 'A' en la secuencia, redondeado al número de decimales especificado.\n",
    "  \"\"\"\n",
    "\n",
    "  secuencia = secuencia.lower()\n",
    "  total_a = secuencia.count('a')\n",
    "  longitud_total = len(secuencia)\n",
    "  porcentaje = round((total_a / longitud_total) * 100, decimales)\n",
    "  return porcentaje\n",
    "\n",
    "# Ejemplo de uso:\n",
    "secuencia_dna = \"ATCGatCgATCG\"\n",
    "# Redondear a 2 decimales (por defecto)\n",
    "porcentaje_adenina_2 = porcentaje_a(secuencia_dna)\n",
    "print(\"Porcentaje de A (2 decimales):\", porcentaje_adenina_2, \"%\")\n",
    "# Redondear a 4 decimales\n",
    "porcentaje_adenina_4 = porcentaje_a(secuencia_dna, 4)\n",
    "print(\"Porcentaje de A (4 decimales):\", porcentaje_adenina_4, \"%\")"
   ]
  },
  {
   "cell_type": "markdown",
   "id": "2c811d84",
   "metadata": {},
   "source": [
    "##### ¿Sabes poner un valor por defecto en un argumento?"
   ]
  },
  {
   "cell_type": "code",
   "execution_count": 123,
   "id": "69a5a24b-f376-4044-a638-ff0a8129514a",
   "metadata": {},
   "outputs": [
    {
     "name": "stdout",
     "output_type": "stream",
     "text": [
      "Porcentaje de A con 3 decimales: 37.5\n",
      "Porcentaje de A con 2 decimales: 37.5\n"
     ]
    }
   ],
   "source": [
    "# Creo función con 3 decimales\n",
    "funcion_porcentaje = calcular_porcentaje_A(decimales=3)\n",
    "\n",
    "# Ahora podemos pasar una secuencia para calcular el porcentaje de A\n",
    "resultado = funcion_porcentaje('AAATGGCC')\n",
    "print(\"Porcentaje de A con 3 decimales:\", resultado)\n",
    "\n",
    "# Creamos otra función con el valor por defecto de 2 decimales\n",
    "funcion_porcentaje_default = calcular_porcentaje_A()\n",
    "\n",
    "# Calculamos el porcentaje de A con 2 decimales\n",
    "resultado_default = funcion_porcentaje_default('aaaTGGcc')\n",
    "print(\"Porcentaje de A con 2 decimales:\", resultado_default)"
   ]
  },
  {
   "cell_type": "markdown",
   "id": "ab2c106c",
   "metadata": {},
   "source": [
    "##### ¿Qué pasa si no ponemos un argumento? ¿Sabrías hacer una función encapsulada?"
   ]
  },
  {
   "cell_type": "code",
   "execution_count": 125,
   "id": "aa887b09-9b2a-46e2-8fe2-6d2d436b1a4e",
   "metadata": {},
   "outputs": [
    {
     "name": "stdout",
     "output_type": "stream",
     "text": [
      "40.0\n",
      "25.0\n",
      "0.0\n"
     ]
    }
   ],
   "source": [
    "def porcentaje_a_flexible(secuencia, decimales=2):\n",
    "    \"\"\"Calcula el porcentaje de nucleótidos A con un número variable de decimales.\n",
    "    Maneja casos donde no se proporciona el argumento 'decimales'.\n",
    "    \"\"\"\n",
    "    if decimales is None:\n",
    "        decimales = 2\n",
    "    return round(secuencia.lower().count('a') / len(secuencia) * 100, decimales)\n",
    "\n",
    "# Llamada a la función con diferentes argumentos\n",
    "resultado1 = porcentaje_a_flexible(\"AAAATTTGGG\")\n",
    "resultado2 = porcentaje_a_flexible(\"ACGTACGT\", 3)\n",
    "resultado3 = porcentaje_a_flexible(\"GCGCGC\", decimales=None)\n",
    "\n",
    "# Imprimir los resultados\n",
    "print(resultado1)\n",
    "print(resultado2)\n",
    "print(resultado3)"
   ]
  },
  {
   "cell_type": "markdown",
   "id": "83af4b0f",
   "metadata": {},
   "source": [
    "##### Testea tu función original con assert"
   ]
  },
  {
   "cell_type": "code",
   "execution_count": 127,
   "id": "2b0d95d1-293f-4817-a85c-f3a220ba4a9c",
   "metadata": {},
   "outputs": [
    {
     "name": "stdout",
     "output_type": "stream",
     "text": [
      "Todos los tests pasaron correctamente\n"
     ]
    }
   ],
   "source": [
    "def test_porcentaje_a_flexible():\n",
    "    assert porcentaje_a_flexible(\"AAAATTTGGG\") == 40.0, \"Error: resultado esperado 40.0\"\n",
    "    assert porcentaje_a_flexible(\"ACGTACGT\", 3) == 25.0, \"Error: resultado esperado 25.0\"\n",
    "    assert porcentaje_a_flexible(\"GCGCGC\", None) == 0.0, \"Error: resultado esperado 0.0\"\n",
    "    assert porcentaje_a_flexible(\"AAAAAAA\", 1) == 100.0, \"Error: resultado esperado 100.0\"\n",
    "    assert porcentaje_a_flexible(\"AGCTAGCTAGCT\", 2) == 25.0, \"Error: resultado esperado 25.0\"\n",
    "    print(\"Todos los tests pasaron correctamente\")\n",
    "\n",
    "# Ejecutamos los tests\n",
    "test_porcentaje_a_flexible()"
   ]
  },
  {
   "cell_type": "markdown",
   "id": "991abaa2",
   "metadata": {},
   "source": [
    "#### 5.- De la lista de accessions que se proporciona obtén lo siguiente:\n",
    "1. Los que tengan el número 5\n",
    "2. Los que tengan la letra 'd' o la 'e'\n",
    "3. Los que tengan las letras 'd' y 'e' en ese orden\n",
    "4. Los que tengan las letras 'd' y 'e' en ese orden con una letra cualquiera en medio\n",
    "5. Los que tengan ambas letras 'd' y 'e' en cualquier orden\n",
    "6. Los que empiezan por 'x' o por 'y'\n",
    "7. Los que empiezan por 'x' o 'y' y terminan por 'e'\n",
    "8. Los que tienen tres o más dígitos seguidos\n",
    "9. Los que terminan con 'd' seguidos de 'a' o 'r' o 'p'"
   ]
  },
  {
   "cell_type": "code",
   "execution_count": 99,
   "id": "6388ac75",
   "metadata": {},
   "outputs": [],
   "source": [
    "import re"
   ]
  },
  {
   "cell_type": "code",
   "execution_count": 101,
   "id": "d00d3ce7",
   "metadata": {},
   "outputs": [],
   "source": [
    "accs = ['xkn59438', 'yhdck2', 'eihd39d9', 'chdsye847', 'hedle3455', 'xjhd53e', '45da', 'de37dp']"
   ]
  },
  {
   "cell_type": "code",
   "execution_count": 105,
   "id": "c4530535-5bc3-4303-837f-88455563a6e6",
   "metadata": {},
   "outputs": [
    {
     "name": "stdout",
     "output_type": "stream",
     "text": [
      "1. Con el número 5: ['xkn59438', 'hedle3455', 'xjhd53e', '45da']\n",
      "2. Con la letra 'd' o 'e': ['yhdck2', 'eihd39d9', 'chdsye847', 'hedle3455', 'xjhd53e', '45da', 'de37dp']\n",
      "3. Con las letras 'd' y 'e' en orden: ['chdsye847', 'hedle3455', 'xjhd53e', 'de37dp']\n",
      "4. Con las letras 'd' y 'e' con una letra en medio: ['hedle3455']\n",
      "5. Con ambas letras 'd' y 'e' en cualquier orden: ['eihd39d9', 'chdsye847', 'hedle3455', 'xjhd53e', 'de37dp']\n",
      "6. Que empiezan por 'x' o 'y': ['xkn59438', 'yhdck2', 'xjhd53e']\n",
      "7. Que empiezan por 'x' o 'y' y terminan en 'e': ['xjhd53e']\n",
      "8. Que tienen tres o más dígitos seguidos: ['xkn59438', 'chdsye847', 'hedle3455']\n",
      "9. Que terminan con 'd' seguido de 'a', 'r' o 'p': ['45da', 'de37dp']\n"
     ]
    }
   ],
   "source": [
    "import re\n",
    "\n",
    "accs = ['xkn59438', 'yhdck2', 'eihd39d9', 'chdsye847', 'hedle3455', 'xjhd53e', '45da', 'de37dp']\n",
    "\n",
    "con_numero_5 = [acc for acc in accs if re.search(r'5', acc)]\n",
    "\n",
    "con_d_o_e = [acc for acc in accs if re.search(r'd|e', acc)]\n",
    "\n",
    "con_d_y_e_en_orden = [acc for acc in accs if re.search(r'd.*e', acc)]\n",
    "\n",
    "con_d_y_e_con_letra_medio = [acc for acc in accs if re.search(r'd.e', acc)]\n",
    "\n",
    "con_d_y_e_en_cualquier_orden = [acc for acc in accs if re.search(r'd.*e|e.*d', acc)]\n",
    "\n",
    "empieza_por_x_o_y = [acc for acc in accs if re.search(r'^[xy]', acc)]\n",
    "\n",
    "empieza_por_x_o_y_y_termina_en_e = [acc for acc in accs if re.search(r'^[xy].*e$', acc)]\n",
    "\n",
    "tres_o_mas_digitos_seguidos = [acc for acc in accs if re.search(r'\\d{3,}', acc)]\n",
    "\n",
    "# 9. Los que terminan con 'd' seguido de 'a', 'r' o 'p'\n",
    "terminan_con_d_y_a_r_o_p = [acc for acc in accs if re.search(r'd[arp]$', acc)]\n",
    "\n",
    "# Imprimir los resultados\n",
    "print(\"1. Con el número 5:\", con_numero_5)\n",
    "print(\"2. Con la letra 'd' o 'e':\", con_d_o_e)\n",
    "print(\"3. Con las letras 'd' y 'e' en orden:\", con_d_y_e_en_orden)\n",
    "print(\"4. Con las letras 'd' y 'e' con una letra en medio:\", con_d_y_e_con_letra_medio)\n",
    "print(\"5. Con ambas letras 'd' y 'e' en cualquier orden:\", con_d_y_e_en_cualquier_orden)\n",
    "print(\"6. Que empiezan por 'x' o 'y':\", empieza_por_x_o_y)\n",
    "print(\"7. Que empiezan por 'x' o 'y' y terminan en 'e':\", empieza_por_x_o_y_y_termina_en_e)\n",
    "print(\"8. Que tienen tres o más dígitos seguidos:\", tres_o_mas_digitos_seguidos)\n",
    "print(\"9. Que terminan con 'd' seguido de 'a', 'r' o 'p':\", terminan_con_d_y_a_r_o_p)"
   ]
  }
 ],
 "metadata": {
  "kernelspec": {
   "display_name": "Python 3 (ipykernel)",
   "language": "python",
   "name": "python3"
  },
  "language_info": {
   "codemirror_mode": {
    "name": "ipython",
    "version": 3
   },
   "file_extension": ".py",
   "mimetype": "text/x-python",
   "name": "python",
   "nbconvert_exporter": "python",
   "pygments_lexer": "ipython3",
   "version": "3.12.4"
  }
 },
 "nbformat": 4,
 "nbformat_minor": 5
}
