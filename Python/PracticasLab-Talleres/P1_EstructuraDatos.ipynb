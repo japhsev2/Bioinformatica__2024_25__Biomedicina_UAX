{
  "cells": [
    {
      "cell_type": "markdown",
      "id": "57e5a4ba",
      "metadata": {
        "id": "57e5a4ba"
      },
      "source": [
        "# PRACTICA 1 Estructuras de Datos\n",
        "\n",
        "### Resuelve las siguientes preguntas empleando lo aprendido con las estructuras de Datos"
      ]
    },
    {
      "cell_type": "markdown",
      "id": "092831f1",
      "metadata": {
        "id": "092831f1"
      },
      "source": [
        "Pon el código debajo de cada pregunta. Añade tantas celdas de código como necesites."
      ]
    },
    {
      "cell_type": "markdown",
      "id": "94b6abb8",
      "metadata": {
        "id": "94b6abb8"
      },
      "source": [
        "#### 1.- Escribe una ecuación que emplee multiplicación, división, un exponente, suma y resta y que sea igual a 100.25."
      ]
    },
    {
      "cell_type": "code",
      "execution_count": 9,
      "id": "4e5e660a",
      "metadata": {
        "colab": {
          "base_uri": "https://localhost:8080/"
        },
        "id": "4e5e660a",
        "outputId": "2a7ab1a0-049d-4f45-b26d-07b61b9e8335"
      },
      "outputs": [
        {
          "output_type": "stream",
          "name": "stdout",
          "text": [
            "100.25\n"
          ]
        }
      ],
      "source": [
        "resultado = (7 * 7 * 2) / 2 + (50 / 1) + 1.25\n",
        "print(resultado)"
      ]
    },
    {
      "cell_type": "markdown",
      "id": "95ec00dc",
      "metadata": {
        "id": "95ec00dc"
      },
      "source": [
        "#### 2.- ¿Qué harías para obtener la raíz cuadrada de 100?"
      ]
    },
    {
      "cell_type": "code",
      "execution_count": 2,
      "id": "d1476ef0",
      "metadata": {
        "colab": {
          "base_uri": "https://localhost:8080/"
        },
        "id": "d1476ef0",
        "outputId": "28f34041-6ec0-428d-cb6d-7127eabdeb77"
      },
      "outputs": [
        {
          "output_type": "stream",
          "name": "stdout",
          "text": [
            "10.0\n"
          ]
        }
      ],
      "source": [
        "import math\n",
        "\n",
        "raiz_cuadrada = math.sqrt(100)\n",
        "print(raiz_cuadrada)\n"
      ]
    },
    {
      "cell_type": "markdown",
      "id": "95232620",
      "metadata": {
        "id": "95232620"
      },
      "source": [
        "#### 3.- ¿Y el cuadrado de 100?"
      ]
    },
    {
      "cell_type": "code",
      "execution_count": 3,
      "id": "14249667",
      "metadata": {
        "colab": {
          "base_uri": "https://localhost:8080/"
        },
        "id": "14249667",
        "outputId": "5a10792a-fc64-4062-b197-01c69a9f4805"
      },
      "outputs": [
        {
          "output_type": "stream",
          "name": "stdout",
          "text": [
            "10000\n"
          ]
        }
      ],
      "source": [
        "cuadrado = 100 ** 2\n",
        "print(cuadrado)"
      ]
    },
    {
      "cell_type": "markdown",
      "id": "7fc5bfae",
      "metadata": {
        "id": "7fc5bfae"
      },
      "source": [
        "#### 4.- Tenemos la string 'hello'.\n",
        "#### Primero devuelve la letra 'e'\n",
        "#### Luego dale la vuelta a la string\n",
        "#### Después usa dos métodos para devolver la letra 'o'"
      ]
    },
    {
      "cell_type": "code",
      "execution_count": null,
      "id": "a6d0eb90",
      "metadata": {
        "id": "a6d0eb90"
      },
      "outputs": [],
      "source": [
        "s = 'hello'"
      ]
    },
    {
      "cell_type": "code",
      "execution_count": 10,
      "id": "a3f33800",
      "metadata": {
        "colab": {
          "base_uri": "https://localhost:8080/"
        },
        "id": "a3f33800",
        "outputId": "602bd4ea-1fe5-4872-91fc-aa959781a690"
      },
      "outputs": [
        {
          "output_type": "stream",
          "name": "stdout",
          "text": [
            "e\n",
            "olleh\n",
            "o\n",
            "o\n"
          ]
        }
      ],
      "source": [
        "s = 'hello'\n",
        "\n",
        "print(s[1])\n",
        "\n",
        "s_invertida = s[::-1]\n",
        "print(s_invertida)\n",
        "\n",
        "print(s[-1])\n",
        "print(s[4])\n"
      ]
    },
    {
      "cell_type": "markdown",
      "id": "0febc918",
      "metadata": {
        "id": "0febc918"
      },
      "source": [
        "#### 5.- Crear una lista que contenga esto [0,0,0] de dos formas distintas"
      ]
    },
    {
      "cell_type": "code",
      "execution_count": 11,
      "id": "30981b24",
      "metadata": {
        "colab": {
          "base_uri": "https://localhost:8080/"
        },
        "id": "30981b24",
        "outputId": "e9a892bf-5474-4671-f5e8-ffcdaf001294"
      },
      "outputs": [
        {
          "output_type": "stream",
          "name": "stdout",
          "text": [
            "[0, 0, 0]\n",
            "[0, 0, 0]\n"
          ]
        }
      ],
      "source": [
        "lista1 = [0, 0, 0]\n",
        "lista2 = [0] * 3\n",
        "\n",
        "print(lista1)\n",
        "print(lista2)\n"
      ]
    },
    {
      "cell_type": "markdown",
      "id": "80e1a951",
      "metadata": {
        "id": "80e1a951"
      },
      "source": [
        "#### 6.- Reasigna 'hello' en la lista a continuación para que diga 'goodbye'"
      ]
    },
    {
      "cell_type": "code",
      "execution_count": null,
      "id": "20d1ebdf",
      "metadata": {
        "id": "20d1ebdf"
      },
      "outputs": [],
      "source": [
        "lista = [1,2,[3,4,'hello']]"
      ]
    },
    {
      "cell_type": "code",
      "execution_count": 12,
      "id": "e9eb03ae",
      "metadata": {
        "colab": {
          "base_uri": "https://localhost:8080/"
        },
        "id": "e9eb03ae",
        "outputId": "d72236bc-31d3-4702-a4f0-0053bb1077ed"
      },
      "outputs": [
        {
          "output_type": "stream",
          "name": "stdout",
          "text": [
            "[1, 2, [3, 4, 'goodbye']]\n"
          ]
        }
      ],
      "source": [
        "lista = [1,2,[3,4,'hello']]\n",
        "lista[2][2] = 'goodbye'\n",
        "print(lista)\n"
      ]
    },
    {
      "cell_type": "markdown",
      "id": "77e38490",
      "metadata": {
        "id": "77e38490"
      },
      "source": [
        "#### 7.- Ordena la siguiente lista"
      ]
    },
    {
      "cell_type": "code",
      "execution_count": null,
      "id": "bc957d55",
      "metadata": {
        "id": "bc957d55"
      },
      "outputs": [],
      "source": [
        "listaSinOrdenar = [5,3,4,6,1]"
      ]
    },
    {
      "cell_type": "code",
      "execution_count": 13,
      "id": "e2c2fb65",
      "metadata": {
        "colab": {
          "base_uri": "https://localhost:8080/"
        },
        "id": "e2c2fb65",
        "outputId": "bf8cbacb-d758-4784-f713-57d92caa4596"
      },
      "outputs": [
        {
          "output_type": "stream",
          "name": "stdout",
          "text": [
            "[1, 3, 4, 5, 6]\n"
          ]
        }
      ],
      "source": [
        "listaSinOrdenar = [5,3,4,6,1]\n",
        "listaOrdenada = sorted(listaSinOrdenar)\n",
        "print(listaOrdenada)\n"
      ]
    },
    {
      "cell_type": "markdown",
      "id": "0cc790ac",
      "metadata": {
        "id": "0cc790ac"
      },
      "source": [
        "8.- En los siguientes diccionarios, extrae el valor de 'hello'"
      ]
    },
    {
      "cell_type": "code",
      "execution_count": null,
      "id": "c390a0bb",
      "metadata": {
        "id": "c390a0bb"
      },
      "outputs": [],
      "source": [
        "f = {'k1':{'k2':'hello'}}"
      ]
    },
    {
      "cell_type": "code",
      "execution_count": 14,
      "id": "4cdcd16e",
      "metadata": {
        "colab": {
          "base_uri": "https://localhost:8080/"
        },
        "id": "4cdcd16e",
        "outputId": "c3e9bdb2-c41e-4376-f7ec-df9d13eaebcf"
      },
      "outputs": [
        {
          "output_type": "stream",
          "name": "stdout",
          "text": [
            "hello\n",
            "hello\n",
            "hello\n"
          ]
        }
      ],
      "source": [
        "f = {'k1':{'k2':'hello'}}\n",
        "g = {'k1':[{'nest_key':['this is deep',['hello']]}]}\n",
        "h = {'k1':[1,2,{'k2':['this is tricky',{'tough':[1,2,['hello']]}]}]}\n",
        "\n",
        "\n",
        "print(f['k1']['k2'])\n",
        "print(g['k1'][0]['nest_key'][1][0])\n",
        "print(h['k1'][2]['k2'][1]['tough'][2][0])\n"
      ]
    },
    {
      "cell_type": "code",
      "execution_count": null,
      "id": "c0244e1f",
      "metadata": {
        "id": "c0244e1f"
      },
      "outputs": [],
      "source": [
        "d = {'key1':'hello'}"
      ]
    },
    {
      "cell_type": "code",
      "execution_count": 15,
      "id": "196ef04c",
      "metadata": {
        "colab": {
          "base_uri": "https://localhost:8080/"
        },
        "id": "196ef04c",
        "outputId": "ca07f9c2-c0aa-4d4e-e3d3-bf314004a87e"
      },
      "outputs": [
        {
          "output_type": "stream",
          "name": "stdout",
          "text": [
            "hello\n"
          ]
        }
      ],
      "source": [
        "# prompt: 8.- En los siguientes diccionarios, extrae el valor de 'hello'\n",
        "\n",
        "d = {'key1':'hello'}\n",
        "print(d['key1'])\n"
      ]
    },
    {
      "cell_type": "code",
      "execution_count": null,
      "id": "344d780b",
      "metadata": {
        "id": "344d780b"
      },
      "outputs": [],
      "source": [
        "g = {'k1':[{'o1':['valor escondido',['hello']]}]}"
      ]
    },
    {
      "cell_type": "code",
      "execution_count": 16,
      "id": "e965a858",
      "metadata": {
        "colab": {
          "base_uri": "https://localhost:8080/"
        },
        "id": "e965a858",
        "outputId": "8cf9348d-8006-4dea-8a08-be5782068dde"
      },
      "outputs": [
        {
          "output_type": "stream",
          "name": "stdout",
          "text": [
            "hello\n"
          ]
        }
      ],
      "source": [
        "g = {'k1':[{'o1':['valor escondido',['hello']]}]}\n",
        "\n",
        "print(g['k1'][0]['o1'][1][0])\n"
      ]
    },
    {
      "cell_type": "code",
      "execution_count": null,
      "id": "663f9ffd",
      "metadata": {
        "id": "663f9ffd"
      },
      "outputs": [],
      "source": [
        "h = {'k1':[1,2,{'k2':['complicado',{'dificil':[1,2,['hello']]}]}]}"
      ]
    },
    {
      "cell_type": "code",
      "execution_count": 17,
      "id": "9b9d7d97",
      "metadata": {
        "colab": {
          "base_uri": "https://localhost:8080/"
        },
        "id": "9b9d7d97",
        "outputId": "d6df5231-3a94-4638-f5b1-0e7ba98a7521"
      },
      "outputs": [
        {
          "output_type": "stream",
          "name": "stdout",
          "text": [
            "hello\n"
          ]
        }
      ],
      "source": [
        "h = {'k1':[1,2,{'k2':['complicado',{'dificil':[1,2,['hello']]}]}]}\n",
        "print(h['k1'][2]['k2'][1]['dificil'][2][0])\n"
      ]
    },
    {
      "cell_type": "markdown",
      "id": "7692eea8",
      "metadata": {
        "id": "7692eea8"
      },
      "source": [
        "9.- Crea una tupla"
      ]
    },
    {
      "cell_type": "code",
      "execution_count": 20,
      "id": "23886da1",
      "metadata": {
        "colab": {
          "base_uri": "https://localhost:8080/"
        },
        "id": "23886da1",
        "outputId": "61fdeea4-951a-4d04-c5fa-22fb40e584f6"
      },
      "outputs": [
        {
          "output_type": "stream",
          "name": "stdout",
          "text": [
            "(11, 22, 33)\n"
          ]
        }
      ],
      "source": [
        "mi_tupla = (11, 22, 33)\n",
        "print(mi_tupla)\n"
      ]
    },
    {
      "cell_type": "markdown",
      "id": "6231d723",
      "metadata": {
        "id": "6231d723"
      },
      "source": [
        "10.- Emplea los sets para encontrar los valores únicos de esta lista"
      ]
    },
    {
      "cell_type": "code",
      "execution_count": null,
      "id": "a7cbba3a",
      "metadata": {
        "id": "a7cbba3a"
      },
      "outputs": [],
      "source": [
        "listaDuplicada = [1,2,2,33,4,4,11,22,3,3,2]"
      ]
    },
    {
      "cell_type": "code",
      "execution_count": 21,
      "id": "71da8284",
      "metadata": {
        "colab": {
          "base_uri": "https://localhost:8080/"
        },
        "id": "71da8284",
        "outputId": "a0dbe5b2-6c3d-497d-d949-54af449bb5a3"
      },
      "outputs": [
        {
          "output_type": "stream",
          "name": "stdout",
          "text": [
            "{1, 2, 33, 4, 3, 11, 22}\n"
          ]
        }
      ],
      "source": [
        "listaDuplicada = [1,2,2,33,4,4,11,22,3,3,2]\n",
        "valores_unicos = set(listaDuplicada)\n",
        "print(valores_unicos)\n"
      ]
    },
    {
      "cell_type": "markdown",
      "id": "9b217cfc",
      "metadata": {
        "id": "9b217cfc"
      },
      "source": [
        "11.- Haz las siguientes comparaciones:\n",
        "##### Dos mayor que tres\n",
        "##### Tres igual que 2\n",
        "##### La raíz cuadrada de cuatro no es igual a 2"
      ]
    },
    {
      "cell_type": "code",
      "execution_count": 32,
      "id": "59b70e21",
      "metadata": {
        "id": "59b70e21"
      },
      "outputs": [],
      "source": [
        "# 2 mayor que 3"
      ]
    },
    {
      "cell_type": "code",
      "source": [
        "print(2 > 3)"
      ],
      "metadata": {
        "colab": {
          "base_uri": "https://localhost:8080/"
        },
        "id": "HeYPVMnb7Dw2",
        "outputId": "3adacd0d-923a-4cdc-b4ee-bd0812e70aec"
      },
      "id": "HeYPVMnb7Dw2",
      "execution_count": 31,
      "outputs": [
        {
          "output_type": "stream",
          "name": "stdout",
          "text": [
            "False\n"
          ]
        }
      ]
    },
    {
      "cell_type": "code",
      "execution_count": null,
      "id": "89985eaf",
      "metadata": {
        "id": "89985eaf"
      },
      "outputs": [],
      "source": [
        "# 3 igual que 2"
      ]
    },
    {
      "cell_type": "code",
      "source": [
        "print(3 == 2)\n"
      ],
      "metadata": {
        "colab": {
          "base_uri": "https://localhost:8080/"
        },
        "id": "ckZiI_JM8dMr",
        "outputId": "f9538422-71a9-4e2a-df03-020676bff237"
      },
      "id": "ckZiI_JM8dMr",
      "execution_count": 34,
      "outputs": [
        {
          "output_type": "stream",
          "name": "stdout",
          "text": [
            "False\n"
          ]
        }
      ]
    },
    {
      "cell_type": "code",
      "execution_count": null,
      "id": "16c4febf",
      "metadata": {
        "id": "16c4febf"
      },
      "outputs": [],
      "source": [
        "# raíz cuadrada de 4 no es igual a 2"
      ]
    },
    {
      "cell_type": "code",
      "source": [
        "print(math.sqrt(4) != 2)\n"
      ],
      "metadata": {
        "colab": {
          "base_uri": "https://localhost:8080/"
        },
        "id": "vtTfqqJD87Wc",
        "outputId": "33fa6ebd-55d4-4e8f-9481-89dca0f589b1"
      },
      "id": "vtTfqqJD87Wc",
      "execution_count": 35,
      "outputs": [
        {
          "output_type": "stream",
          "name": "stdout",
          "text": [
            "False\n"
          ]
        }
      ]
    }
  ],
  "metadata": {
    "kernelspec": {
      "display_name": "Python 3 (ipykernel)",
      "language": "python",
      "name": "python3"
    },
    "language_info": {
      "codemirror_mode": {
        "name": "ipython",
        "version": 3
      },
      "file_extension": ".py",
      "mimetype": "text/x-python",
      "name": "python",
      "nbconvert_exporter": "python",
      "pygments_lexer": "ipython3",
      "version": "3.11.4"
    },
    "colab": {
      "provenance": []
    }
  },
  "nbformat": 4,
  "nbformat_minor": 5
}