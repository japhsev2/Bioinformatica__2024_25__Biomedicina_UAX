{
  "cells": [
    {
      "cell_type": "markdown",
      "id": "985e6f9b",
      "metadata": {
        "id": "985e6f9b"
      },
      "source": [
        "# PRACTICA 2\n",
        "\n",
        "### ¡Con todo lo aprendido con Python, vamos a resolver unos ejercicios de Bioinformática!\n",
        "\n",
        "#### 1.- Concatena las cadenas ATGCC y TCCG"
      ]
    },
    {
      "cell_type": "code",
      "execution_count": null,
      "id": "c06c7b6f",
      "metadata": {
        "id": "c06c7b6f"
      },
      "outputs": [],
      "source": [
        "cadena1 = \"ATGCC\"\n",
        "cadena2 = \"TCCG\""
      ]
    },
    {
      "cell_type": "code",
      "execution_count": 1,
      "id": "b845927c",
      "metadata": {
        "colab": {
          "base_uri": "https://localhost:8080/"
        },
        "id": "b845927c",
        "outputId": "7c95eb3e-282c-4c2f-f791-bb3252e21aca"
      },
      "outputs": [
        {
          "output_type": "stream",
          "name": "stdout",
          "text": [
            "ATGCCTCCG\n"
          ]
        }
      ],
      "source": [
        "cadena1 = \"ATGCC\"\n",
        "cadena2 = \"TCCG\"\n",
        "\n",
        "cadena_concatenada = cadena1 + cadena2\n",
        "\n",
        "print(cadena_concatenada)\n"
      ]
    },
    {
      "cell_type": "markdown",
      "id": "1f4b7708",
      "metadata": {
        "id": "1f4b7708"
      },
      "source": [
        "#### 2.- ¿Cuál es la longitud de ATGCGAGT?"
      ]
    },
    {
      "cell_type": "code",
      "execution_count": null,
      "id": "8f78cad8",
      "metadata": {
        "id": "8f78cad8"
      },
      "outputs": [],
      "source": [
        "dna=\"ATGCGAGT\""
      ]
    },
    {
      "cell_type": "code",
      "execution_count": 2,
      "id": "ecce1da6",
      "metadata": {
        "colab": {
          "base_uri": "https://localhost:8080/"
        },
        "id": "ecce1da6",
        "outputId": "403c6808-72fe-49e8-dd28-3d98e6375109"
      },
      "outputs": [
        {
          "output_type": "stream",
          "name": "stdout",
          "text": [
            "8\n"
          ]
        }
      ],
      "source": [
        "dna=\"ATGCGAGT\"\n",
        "longitud_dna = len(dna)\n",
        "\n",
        "print(longitud_dna)\n"
      ]
    },
    {
      "cell_type": "markdown",
      "id": "6361c287",
      "metadata": {
        "id": "6361c287"
      },
      "source": [
        "#### 3.- Con la cadena mgXDyTw, ponla en mayúsculas, luego en minúsculas. Extrae su longitud y divide la cadena por la letra \"g\""
      ]
    },
    {
      "cell_type": "code",
      "execution_count": null,
      "id": "b69beca1",
      "metadata": {
        "id": "b69beca1"
      },
      "outputs": [],
      "source": [
        "cadena=\"mgXDyTw\""
      ]
    },
    {
      "cell_type": "code",
      "execution_count": 3,
      "id": "51591dca",
      "metadata": {
        "colab": {
          "base_uri": "https://localhost:8080/"
        },
        "id": "51591dca",
        "outputId": "16e561dc-b3ae-453a-d78e-4d822c2bcb65"
      },
      "outputs": [
        {
          "output_type": "stream",
          "name": "stdout",
          "text": [
            "MGXDYTW\n",
            "mgxdytw\n",
            "7\n",
            "['m', 'XDyTw']\n"
          ]
        }
      ],
      "source": [
        "cadena=\"mgXDyTw\"\n",
        "\n",
        "cadena_mayusculas = cadena.upper()\n",
        "print(cadena_mayusculas)\n",
        "\n",
        "cadena_minusculas = cadena.lower()\n",
        "print(cadena_minusculas)\n",
        "\n",
        "longitud_cadena = len(cadena)\n",
        "print(longitud_cadena)\n",
        "\n",
        "cadena_dividida = cadena.split(\"g\")\n",
        "print(cadena_dividida)\n"
      ]
    },
    {
      "cell_type": "markdown",
      "id": "91c2ca9d",
      "metadata": {
        "id": "91c2ca9d"
      },
      "source": [
        "#### 4.- Con la secuencia de aminoácidos vlspadktnv, reemplaza la valina con la tirosina. Pista: usa replace()"
      ]
    },
    {
      "cell_type": "code",
      "execution_count": null,
      "id": "a049ecdd",
      "metadata": {
        "id": "a049ecdd"
      },
      "outputs": [],
      "source": [
        "aa = \"vlspadktnv\""
      ]
    },
    {
      "cell_type": "code",
      "execution_count": 4,
      "id": "0c464cc2",
      "metadata": {
        "colab": {
          "base_uri": "https://localhost:8080/"
        },
        "id": "0c464cc2",
        "outputId": "e3169f58-e969-499a-c38f-beddbb5c0db1"
      },
      "outputs": [
        {
          "output_type": "stream",
          "name": "stdout",
          "text": [
            "ylspadktny\n"
          ]
        }
      ],
      "source": [
        "aa = \"vlspadktnv\"\n",
        "\n",
        "aa_reemplazada = aa.replace(\"v\", \"y\")\n",
        "\n",
        "print(aa_reemplazada)\n"
      ]
    },
    {
      "cell_type": "markdown",
      "id": "97f9ecd6",
      "metadata": {
        "id": "97f9ecd6"
      },
      "source": [
        "#### 5.- Cuenta las valinas de la secuencia original anterior."
      ]
    },
    {
      "cell_type": "code",
      "execution_count": 5,
      "id": "b4b5600f",
      "metadata": {
        "colab": {
          "base_uri": "https://localhost:8080/"
        },
        "id": "b4b5600f",
        "outputId": "4cba1c9a-7103-479e-a6cb-55598ce092d5"
      },
      "outputs": [
        {
          "output_type": "stream",
          "name": "stdout",
          "text": [
            "2\n"
          ]
        }
      ],
      "source": [
        "aa = \"vlspadktnv\"\n",
        "conteo_valinas = aa.count(\"v\")\n",
        "\n",
        "print(conteo_valinas)\n"
      ]
    },
    {
      "cell_type": "markdown",
      "id": "6aac8e24",
      "metadata": {
        "id": "6aac8e24"
      },
      "source": [
        "#### 6.- Con el diccionario siguiente imprime el valor de BisI y saca el valor de EcoRI con pop(). ¿Qué pasa con el diccionario?"
      ]
    },
    {
      "cell_type": "code",
      "execution_count": null,
      "id": "c0c811d7",
      "metadata": {
        "id": "c0c811d7"
      },
      "outputs": [],
      "source": [
        "enzR = {\n",
        "    'EcoRI':r'GAATTC',\n",
        "    'AvaII':r'GG(A|T)CC',\n",
        "    'BisI':r'GC[ATGC]GC'\n",
        "}"
      ]
    },
    {
      "cell_type": "code",
      "execution_count": 6,
      "id": "5dacb009",
      "metadata": {
        "colab": {
          "base_uri": "https://localhost:8080/"
        },
        "id": "5dacb009",
        "outputId": "122bd00c-48bc-4257-ff6b-db99c46f033a"
      },
      "outputs": [
        {
          "output_type": "stream",
          "name": "stdout",
          "text": [
            "GC[ATGC]GC\n",
            "GAATTC\n",
            "{'AvaII': 'GG(A|T)CC', 'BisI': 'GC[ATGC]GC'}\n"
          ]
        }
      ],
      "source": [
        "enzR = {\n",
        "    'EcoRI':r'GAATTC',\n",
        "    'AvaII':r'GG(A|T)CC',\n",
        "    'BisI':r'GC[ATGC]GC'\n",
        "}\n",
        "\n",
        "print(enzR['BisI'])\n",
        "\n",
        "valor_EcoRI = enzR.pop('EcoRI')\n",
        "print(valor_EcoRI)\n",
        "\n",
        "print(enzR)\n"
      ]
    },
    {
      "cell_type": "markdown",
      "id": "4646bddd",
      "metadata": {
        "id": "4646bddd"
      },
      "source": [
        "#### 7.- Con la secuencia y la lista siguiente, escribe un algoritmo que cuente el número de veces que aparece un elemento de la lista en la secuencia. Pista: hacer un diccionario para almacenar los resultados puede ser buena idea"
      ]
    },
    {
      "cell_type": "code",
      "execution_count": null,
      "id": "0a701a5e",
      "metadata": {
        "id": "0a701a5e"
      },
      "outputs": [],
      "source": [
        "dna = \"AATGATGAACGAC\"\n",
        "dinucleotides = ['AA','AT','AG','AC',\n",
        "                 'TA','TT','TG','TC',\n",
        "                 'GA','GT','GG','GC',\n",
        "                 'CA','CT','CG','CT']"
      ]
    },
    {
      "cell_type": "code",
      "execution_count": 7,
      "id": "e028dbc8",
      "metadata": {
        "colab": {
          "base_uri": "https://localhost:8080/"
        },
        "id": "e028dbc8",
        "outputId": "15c8233a-b3e4-4db1-f000-ec842cfaf929"
      },
      "outputs": [
        {
          "output_type": "stream",
          "name": "stdout",
          "text": [
            "{'AA': 2, 'AT': 2, 'AG': 0, 'AC': 2, 'TA': 0, 'TT': 0, 'TG': 2, 'TC': 0, 'GA': 3, 'GT': 0, 'GG': 0, 'GC': 0, 'CA': 0, 'CT': 0, 'CG': 1}\n"
          ]
        }
      ],
      "source": [
        "dna = \"AATGATGAACGAC\"\n",
        "dinucleotides = ['AA','AT','AG','AC',\n",
        "                 'TA','TT','TG','TC',\n",
        "                 'GA','GT','GG','GC',\n",
        "                 'CA','CT','CG','CT']\n",
        "\n",
        "conteo_dinucleotidos = {}\n",
        "\n",
        "for dinucleotide in dinucleotides:\n",
        "  conteo_dinucleotidos[dinucleotide] = dna.count(dinucleotide)\n",
        "\n",
        "print(conteo_dinucleotidos)\n"
      ]
    },
    {
      "cell_type": "markdown",
      "id": "a44b5e4c",
      "metadata": {
        "id": "a44b5e4c"
      },
      "source": [
        "##### ¿Cuántos counts tiene TC?"
      ]
    },
    {
      "cell_type": "code",
      "execution_count": 8,
      "id": "3003eef4",
      "metadata": {
        "colab": {
          "base_uri": "https://localhost:8080/"
        },
        "id": "3003eef4",
        "outputId": "f723f5bc-6257-4107-c6f4-bf225ecdc9d8"
      },
      "outputs": [
        {
          "output_type": "stream",
          "name": "stdout",
          "text": [
            "0\n"
          ]
        }
      ],
      "source": [
        "print(conteo_dinucleotidos['TC'])\n"
      ]
    },
    {
      "cell_type": "markdown",
      "id": "70245f18",
      "metadata": {
        "id": "70245f18"
      },
      "source": [
        "##### ¿Puedes imprimir los dinuleótidos que tengan counts igual a 2?"
      ]
    },
    {
      "cell_type": "code",
      "execution_count": 9,
      "id": "b83480e8",
      "metadata": {
        "colab": {
          "base_uri": "https://localhost:8080/"
        },
        "id": "b83480e8",
        "outputId": "721a3f49-9df1-4a45-d736-5b3ae803447d"
      },
      "outputs": [
        {
          "output_type": "stream",
          "name": "stdout",
          "text": [
            "AA\n",
            "AT\n",
            "AC\n",
            "TG\n"
          ]
        }
      ],
      "source": [
        "for dinucleotide, count in conteo_dinucleotidos.items():\n",
        "  if count == 2:\n",
        "    print(dinucleotide)\n"
      ]
    }
  ],
  "metadata": {
    "kernelspec": {
      "display_name": "Python 3 (ipykernel)",
      "language": "python",
      "name": "python3"
    },
    "language_info": {
      "codemirror_mode": {
        "name": "ipython",
        "version": 3
      },
      "file_extension": ".py",
      "mimetype": "text/x-python",
      "name": "python",
      "nbconvert_exporter": "python",
      "pygments_lexer": "ipython3",
      "version": "3.11.4"
    },
    "colab": {
      "provenance": []
    }
  },
  "nbformat": 4,
  "nbformat_minor": 5
}