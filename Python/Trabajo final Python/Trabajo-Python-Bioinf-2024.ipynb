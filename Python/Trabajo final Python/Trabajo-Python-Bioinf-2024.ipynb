{
 "cells": [
  {
   "cell_type": "markdown",
   "id": "eaebb484",
   "metadata": {},
   "source": [
    "# TRABAJO DE PYTHON\n",
    "\n",
    "### Este trabajo cuenta el 30% de la nota. \n",
    "\n",
    "### Resuelve los siguientes ejercicios en Python\n",
    "\n",
    "#### Utiliza tantas celdas de código como necesites"
   ]
  },
  {
   "cell_type": "markdown",
   "id": "98d4d480",
   "metadata": {},
   "source": [
    "#### 1.- Carga el archivo *\"archivo.txt\"* en este Jupyter Notebook y guarda su contenido en una lista. (1 pto)"
   ]
  },
  {
   "cell_type": "code",
   "execution_count": 1,
   "id": "f6b21b23",
   "metadata": {},
   "outputs": [
    {
     "name": "stdout",
     "output_type": "stream",
     "text": [
      "['>CP043953.1 Acinetobacter baumannii strain K09-14 chromosome, complete genome\\n', 'ATGCTTTGGACAGACTGCTTAACTCGCTTGCGACAAGAGCTCTCTGATAACGTCTTTGCGATGTGGATTCGCCCTTTAGTAGCTGAAGAAGTAGAGGGGATACTACGTCTCTATGCTCCTAATCCTTATTGGACGCGTTATATTCAAGAGAATCATTTAGAGTTAATTTCTATATTGGCTGAACAATTGTCAGAAGGGCGGGTGCGTCAGGTTGAAATCTTGGTAGATTCTCGTCCTGGTAGTATTTTGTCTTCTAGTGAACAGCCTGCAACAACTACAGCAGCTTTACAAACTGCCCCTATACCTCAACCTGCTAAGGTTAAAAGAGAACCGGAACCTGTTGCTAATACTGCAGTTAGTTCTAAGAGTTCAAAAAAGAAACTATTAAATCCACAATTTACTTTTTCACTATTTGTTGAAGGCCGTTCTAACCAAATGGCAGCAGAAACCTGTAGAAAAGTATTAACACAGTTAGGTGCTTCTCAACATAACCCTTTGTTTTTATATGGTCCGACAGGTCTAGGTAAGACTCACTTAATGCAAGCAGTTGGTAATGCCCTACTGCAAGCGAAGCCGAATGCAAGAGTCATGTATATGACTTCAGAAAGTTTTGTACAAGATTTTGTGAGCTCATTACAAAAAGGAAAGGTAGAAGAGTTTAAGAAAAATTGCCGTTCTTTAGACTTGTTATTAGTAGATGATATTCATCTTTTGGCAGGAAAAGAAGCAAGTCTCGTTGAATTCTTCTATACATTTAATGCCTTACTTGATGAATCTAAACAAATTATTTTAACGTCTGATCGATATCCTAAAGAATTAACAGAACTTGATCCTCGATTGGTTTCTCGTTTTTCCTGGGGGCTATCAGTAGGTGTTGAACCACCTGATATTGAAACTCGAATCGAAATTCTGCTTAAAAAAGCTGAAAATAGTGGCGTTGATTTACCTAGAAACTGTGCGTTGTTTATTGCCCAACAAGTCGTAGCGAACGTACGTGAACTTGAGGGCGCACTGAATAAAGTTGTCGCAATTTCACGTTTTAAAGGTGCTCCAATTGACCTGGATGTCGTACGGGAATCTTTAAAAGATGTTTTAGCGATCCGTGCTCGTACAATTAGTGTAGAAAATATCCAGCGTGTAGTGAGTGAATATTTCCGAATTCCATTAAAAGAGCTGGTAGGTCCAAAGCGTACCCGAATTTATGCTCGACCACGTCAGTTGGCGATGGGGCTTGCCCGTGAATTAACGGGGGATAGTTTTCCTGAAATTGGAATGGCTTTTGGTGGGCGTGATCACAGTACAGTGATGCATGCTTGTGAAAAAGTCGTC']\n"
     ]
    }
   ],
   "source": [
    "# Abrimos el archivo y guardamos su contenido en una lista\n",
    "with open(\"archivo.txt\", \"r\") as archivo:\n",
    "    contenido = archivo.readlines()\n",
    "\n",
    "# La variable 'contenido' ahora contiene una lista donde cada elemento es una línea del archivo\n",
    "print(contenido)"
   ]
  },
  {
   "cell_type": "markdown",
   "id": "400fa3f1",
   "metadata": {},
   "source": [
    "#### 2.- Muestre el encabezado y la secuencia y guarde cada uno en variables separadas. Elimine el elemento \"\\n\" del encabezado con replace(). ¿Cual es la longitud de la secuencia?. (1 pto)"
   ]
  },
  {
   "cell_type": "code",
   "execution_count": 3,
   "id": "154b42b2",
   "metadata": {},
   "outputs": [
    {
     "name": "stdout",
     "output_type": "stream",
     "text": [
      "Encabezado: >CP043953.1 Acinetobacter baumannii strain K09-14 chromosome, complete genome\n",
      "Secuencia: ATGCTTTGGACAGACTGCTTAACTCGCTTGCGACAAGAGCTCTCTGATAACGTCTTTGCGATGTGGATTCGCCCTTTAGTAGCTGAAGAAGTAGAGGGGATACTACGTCTCTATGCTCCTAATCCTTATTGGACGCGTTATATTCAAGAGAATCATTTAGAGTTAATTTCTATATTGGCTGAACAATTGTCAGAAGGGCGGGTGCGTCAGGTTGAAATCTTGGTAGATTCTCGTCCTGGTAGTATTTTGTCTTCTAGTGAACAGCCTGCAACAACTACAGCAGCTTTACAAACTGCCCCTATACCTCAACCTGCTAAGGTTAAAAGAGAACCGGAACCTGTTGCTAATACTGCAGTTAGTTCTAAGAGTTCAAAAAAGAAACTATTAAATCCACAATTTACTTTTTCACTATTTGTTGAAGGCCGTTCTAACCAAATGGCAGCAGAAACCTGTAGAAAAGTATTAACACAGTTAGGTGCTTCTCAACATAACCCTTTGTTTTTATATGGTCCGACAGGTCTAGGTAAGACTCACTTAATGCAAGCAGTTGGTAATGCCCTACTGCAAGCGAAGCCGAATGCAAGAGTCATGTATATGACTTCAGAAAGTTTTGTACAAGATTTTGTGAGCTCATTACAAAAAGGAAAGGTAGAAGAGTTTAAGAAAAATTGCCGTTCTTTAGACTTGTTATTAGTAGATGATATTCATCTTTTGGCAGGAAAAGAAGCAAGTCTCGTTGAATTCTTCTATACATTTAATGCCTTACTTGATGAATCTAAACAAATTATTTTAACGTCTGATCGATATCCTAAAGAATTAACAGAACTTGATCCTCGATTGGTTTCTCGTTTTTCCTGGGGGCTATCAGTAGGTGTTGAACCACCTGATATTGAAACTCGAATCGAAATTCTGCTTAAAAAAGCTGAAAATAGTGGCGTTGATTTACCTAGAAACTGTGCGTTGTTTATTGCCCAACAAGTCGTAGCGAACGTACGTGAACTTGAGGGCGCACTGAATAAAGTTGTCGCAATTTCACGTTTTAAAGGTGCTCCAATTGACCTGGATGTCGTACGGGAATCTTTAAAAGATGTTTTAGCGATCCGTGCTCGTACAATTAGTGTAGAAAATATCCAGCGTGTAGTGAGTGAATATTTCCGAATTCCATTAAAAGAGCTGGTAGGTCCAAAGCGTACCCGAATTTATGCTCGACCACGTCAGTTGGCGATGGGGCTTGCCCGTGAATTAACGGGGGATAGTTTTCCTGAAATTGGAATGGCTTTTGGTGGGCGTGATCACAGTACAGTGATGCATGCTTGTGAAAAAGTCGTC\n",
      "Longitud de la secuencia: 1329\n"
     ]
    }
   ],
   "source": [
    "# Obtenemos el encabezado (primera línea) y eliminamos el \\n con replace()\n",
    "encabezado = contenido[0].replace(\"\\n\", \"\")\n",
    "\n",
    "# Obtenemos la secuencia (segunda línea)\n",
    "secuencia = contenido[1]\n",
    "\n",
    "# Mostramos el encabezado y la secuencia\n",
    "print(\"Encabezado:\", encabezado)\n",
    "print(\"Secuencia:\", secuencia)\n",
    "\n",
    "# Calculamos y mostramos la longitud de la secuencia\n",
    "longitud_secuencia = len(secuencia.strip())  # strip() para eliminar espacios y \\n al final\n",
    "print(\"Longitud de la secuencia:\", longitud_secuencia)"
   ]
  },
  {
   "cell_type": "markdown",
   "id": "36b8c00d",
   "metadata": {},
   "source": [
    "#### 3.- Para el encabezado, extrae empleando expresiones regulares el identificador. (1pto)"
   ]
  },
  {
   "cell_type": "code",
   "execution_count": 5,
   "id": "ba30c722-7437-40d1-a5c7-7cb173f04b80",
   "metadata": {},
   "outputs": [
    {
     "name": "stdout",
     "output_type": "stream",
     "text": [
      "Identificador encontrado: CP043953.1\n"
     ]
    }
   ],
   "source": [
    "import re\n",
    "\n",
    "# Asumiendo que el encabezado tiene un formato como \">identificador resto_del_texto\"\n",
    "patron = r\">(\\w+\\.\\d+)\"  # o también: r\">(\\w+\\.[0-9]+)\"\n",
    "resultado = re.search(patron, encabezado)\n",
    "\n",
    "if resultado:\n",
    "    identificador = resultado.group(1)\n",
    "    print(\"Identificador encontrado:\", identificador)\n",
    "else:\n",
    "    print(\"No se encontró un identificador válido\")"
   ]
  },
  {
   "cell_type": "markdown",
   "id": "f38fdda0",
   "metadata": {},
   "source": [
    "#### 4.- Para la secuencia, haz un algoritmo que vaya sumando el numero de adeninas (A) y timinas (T) segun vaya iterando por la secuencia. El numero total de adeninas y timinas deberia guardarse en una misma variable. (1 pto)"
   ]
  },
  {
   "cell_type": "code",
   "execution_count": 7,
   "id": "2914b1f2",
   "metadata": {},
   "outputs": [
    {
     "name": "stdout",
     "output_type": "stream",
     "text": [
      "El número total de adeninas y timinas es: 793\n",
      "El porcentaje de A+T en la secuencia es: 59.67%\n"
     ]
    }
   ],
   "source": [
    "# Inicializamos el contador para A+T\n",
    "total_AT = 0\n",
    "\n",
    "# Iteramos por cada carácter en la secuencia\n",
    "for nucleotido in secuencia.strip():  # strip() para eliminar posibles espacios o \\n\n",
    "    if nucleotido.upper() in ['A', 'T']:  # Convertimos a mayúscula para hacer la comparación\n",
    "        total_AT += 1\n",
    "\n",
    "# Mostramos el resultado\n",
    "print(f\"El número total de adeninas y timinas es: {total_AT}\")\n",
    "\n",
    "# También podríamos mostrar el porcentaje sobre el total de la secuencia\n",
    "porcentaje_AT = (total_AT / len(secuencia.strip())) * 100\n",
    "print(f\"El porcentaje de A+T en la secuencia es: {porcentaje_AT:.2f}%\")"
   ]
  },
  {
   "cell_type": "markdown",
   "id": "98096e73",
   "metadata": {},
   "source": [
    "#### 5.- Escribe una funcion que calcule el porcentaje de un nucleotido de una secuencia y que examine la entrada para comprobar que se ha introducido un nucleotido de los cuatro tipos que hay (A, T, G o C). Devuelve el resultado con un decimal. Por ultimo comprueba que tu codigo funciona con las siguientes *assertions*. (1 pto)"
   ]
  },
  {
   "cell_type": "code",
   "execution_count": null,
   "id": "df4b86c4",
   "metadata": {},
   "outputs": [],
   "source": [
    "assert calculo_porcentaje(\"A\",secuencia) == 29.2\n",
    "assert calculo_porcentaje(\"T\",secuencia) == 30.5\n",
    "assert calculo_porcentaje(\"G\",secuencia) == 22.0\n",
    "assert calculo_porcentaje(\"C\",secuencia) == 18.3"
   ]
  },
  {
   "cell_type": "code",
   "execution_count": 9,
   "id": "971a8ecb-3b75-4dc5-aac8-0cdaebd37bbe",
   "metadata": {},
   "outputs": [
    {
     "name": "stdout",
     "output_type": "stream",
     "text": [
      "¡Todos los tests pasaron correctamente!\n"
     ]
    }
   ],
   "source": [
    "def calculo_porcentaje(nucleotido, secuencia):\n",
    "    # Validar que el nucleótido sea válido\n",
    "    nucleotidos_validos = ['A', 'T', 'G', 'C']\n",
    "    if nucleotido not in nucleotidos_validos:\n",
    "        raise ValueError(f\"El nucleótido debe ser uno de: {nucleotidos_validos}\")\n",
    "    \n",
    "    # Limpiar la secuencia de posibles espacios o saltos de línea\n",
    "    secuencia_limpia = secuencia.strip()\n",
    "    \n",
    "    # Contar el nucleótido específico\n",
    "    cantidad = secuencia_limpia.count(nucleotido)\n",
    "    \n",
    "    # Calcular el porcentaje con un decimal\n",
    "    porcentaje = round((cantidad / len(secuencia_limpia)) * 100, 1)\n",
    "    \n",
    "    return porcentaje\n",
    "\n",
    "# Probamos la función con los assertions dados\n",
    "try:\n",
    "    assert calculo_porcentaje(\"A\", secuencia) == 29.2\n",
    "    assert calculo_porcentaje(\"T\", secuencia) == 30.5\n",
    "    assert calculo_porcentaje(\"G\", secuencia) == 22.0\n",
    "    assert calculo_porcentaje(\"C\", secuencia) == 18.3\n",
    "    print(\"¡Todos los tests pasaron correctamente!\")\n",
    "except AssertionError:\n",
    "    print(\"Error: Los resultados no coinciden con los esperados\")"
   ]
  },
  {
   "cell_type": "markdown",
   "id": "a28888dd",
   "metadata": {},
   "source": [
    "#### 6.- Devuelve la secuencia de ARN que surgiría a partir de la siguiente secuencia. Recuerda que la secuencia de ARN resultante tiene que ser complementaria a la de ADN y además, hay que cambiar un nucleótido. (1 pto)"
   ]
  },
  {
   "cell_type": "code",
   "execution_count": 11,
   "id": "b27feabb",
   "metadata": {},
   "outputs": [
    {
     "name": "stdout",
     "output_type": "stream",
     "text": [
      "Secuencia de ARN resultante: UACGAAACCUGUCUGACGAAUUGAGCGAACGCUGUUCUCGAGAGACUAUUGCAGAAACGCUACACCUAAGCGGGAAAUCAUCGACUUCUUCAUCUCCCCUAUGAUGCAGAGAUACGAGGAUUAGGAAUAACCUGCGCAAUAUAAGUUCUCUUAGUAAAUCUCAAUUAAAGAUAUAACCGACUUGUUAACAGUCUUCCCGCCCACGCAGUCCAACUUUAGAACCAUCUAAGAGCAGGACCAUCAUAAAACAGAAGAUCACUUGUCGGACGUUGUUGAUGUCGUCGAAAUGUUUGACGGGGAUAUGGAGUUGGACGAUUCCAAUUUUCUCUUGGCCUUGGACAACGAUUAUGACGUCAAUCAAGAUUCUCAAGUUUUUUCUUUGAUAAUUUAGGUGUUAAAUGAAAAAGUGAUAAACAACUUCCGGCAAGAUUGGUUUACCGUCGUCUUUGGACAUCUUUUCAUAAUUGUGUCAAUCCACGAAGAGUUGUAUUGGGAAACAAAAAUAUACCAGGCUGUCCAGAUCCAUUCUGAGUGAAUUACGUUCGUCAACCAUUACGGGAUGACGUUCGCUUCGGCUUACGUUCUCAGUACAUAUACUGAAGUCUUUCAAAACAUGUUCUAAAACACUCGAGUAAUGUUUUUCCUUUCCAUCUUCUCAAAUUCUUUUUAACGGCAAGAAAUCUGAACAAUAAUCAUCUACUAUAAGUAGAAAACCGUCCUUUUCUUCGUUCAGAGCAACUUAAGAAGAUAUGUAAAUUACGGAAUGAACUACUUAGAUUUGUUUAAUAAAAUUGCAGACUAGCUAUAGGAUUUCUUAAUUGUCUUGAACUAGGAGCUAACCAAAGAGCAAAAAGGACCCCCGAUAGUCAUCCACAACUUGGUGGACUAUAACUUUGAGCUUAGCUUUAAGACGAAUUUUUUCGACUUUUAUCACCGCAACUAAAUGGAUCUUUGACACGCAACAAAUAACGGGUUGUUCAGCAUCGCUUGCAUGCACUUGAACUCCCGCGUGACUUAUUUCAACAGCGUUAAAGUGCAAAAUUUCCACGAGGUUAACUGGACCUACAGCAUGCCCUUAGAAAUUUUCUACAAAAUCGCUAGGCACGAGCAUGUUAAUCACAUCUUUUAUAGGUCGCACAUCACUCACUUAUAAAGGCUUAAGGUAAUUUUCUCGACCAUCCAGGUUUCGCAUGGGCUUAAAUACGAGCUGGUGCAGUCAACCGCUACCCCGAACGGGCACUUAAUUGCCCCCUAUCAAAAGGACUUUAACCUUACCGAAAACCACCCGCACUAGUGUCAUGUCACUACGUACGAACACUUUUUCAGCAG\n"
     ]
    }
   ],
   "source": [
    "def adn_a_arn(secuencia_adn):\n",
    "    # Primero creamos un diccionario con las bases complementarias\n",
    "    complementos = {\n",
    "        'A': 'U',  # A se empareja con U (no T en ARN)\n",
    "        'T': 'A',\n",
    "        'G': 'C',\n",
    "        'C': 'G'\n",
    "    }\n",
    "    \n",
    "    # Limpiamos la secuencia de espacios y saltos de línea\n",
    "    secuencia_adn = secuencia_adn.strip()\n",
    "    \n",
    "    # Creamos la secuencia complementaria de ARN\n",
    "    secuencia_arn = ''\n",
    "    for nucleotido in secuencia_adn:\n",
    "        secuencia_arn += complementos[nucleotido]\n",
    "    \n",
    "    return secuencia_arn\n",
    "\n",
    "# Probamos la función con la secuencia que tenemos\n",
    "arn_resultante = adn_a_arn(secuencia)\n",
    "print(f\"Secuencia de ARN resultante: {arn_resultante}\")"
   ]
  },
  {
   "cell_type": "markdown",
   "id": "9f94d5dd",
   "metadata": {},
   "source": [
    "#### 7.- Realiza una función que realice una digestión con las siguientes enzimas de restricción en nuestra secuencia. La función tiene que devolver la siguiente información: (2 pto)\n",
    "1. Enzimas que tienen sitios de corte en la secuencia y posición (o posiciones de corte)\n",
    "2. Enzimas que no tienen sitios de corte (si las hay)\n",
    "3. Resultado de la digestión: los fragmentos resultantes de nuestra secuencia\n",
    "4. Indicar número y tamaño de cada fragmento"
   ]
  },
  {
   "cell_type": "code",
   "execution_count": 13,
   "id": "1cab833c",
   "metadata": {},
   "outputs": [
    {
     "name": "stdout",
     "output_type": "stream",
     "text": [
      "1. Enzimas con sitios de corte y sus posiciones:\n",
      "   AluI: posiciones [39, 82, 283, 629, 922, 1173]\n",
      "   Sau3AI: posiciones [798, 828, 1097, 1290]\n",
      "   EcoRI: posiciones [739, 1157]\n",
      "\n",
      "2. Enzimas sin sitios de corte:\n",
      "   HindIII, BamHI\n",
      "\n",
      "3. Fragmentos resultantes:\n",
      "   Fragmento 1: ATGCTTTGGACAGACTGCTTAACTCGCTTGCGACAAGAG\n",
      "   Fragmento 2: CTCTCTGATAACGTCTTTGCGATGTGGATTCGCCCTTTAGTAG\n",
      "   Fragmento 3: CTGAAGAAGTAGAGGGGATACTACGTCTCTATGCTCCTAATCCTTATTGGACGCGTTATATTCAAGAGAATCATTTAGAGTTAATTTCTATATTGGCTGAACAATTGTCAGAAGGGCGGGTGCGTCAGGTTGAAATCTTGGTAGATTCTCGTCCTGGTAGTATTTTGTCTTCTAGTGAACAGCCTGCAACAACTACAGCAG\n",
      "   Fragmento 4: CTTTACAAACTGCCCCTATACCTCAACCTGCTAAGGTTAAAAGAGAACCGGAACCTGTTGCTAATACTGCAGTTAGTTCTAAGAGTTCAAAAAAGAAACTATTAAATCCACAATTTACTTTTTCACTATTTGTTGAAGGCCGTTCTAACCAAATGGCAGCAGAAACCTGTAGAAAAGTATTAACACAGTTAGGTGCTTCTCAACATAACCCTTTGTTTTTATATGGTCCGACAGGTCTAGGTAAGACTCACTTAATGCAAGCAGTTGGTAATGCCCTACTGCAAGCGAAGCCGAATGCAAGAGTCATGTATATGACTTCAGAAAGTTTTGTACAAGATTTTGTGAG\n",
      "   Fragmento 5: CTCATTACAAAAAGGAAAGGTAGAAGAGTTTAAGAAAAATTGCCGTTCTTTAGACTTGTTATTAGTAGATGATATTCATCTTTTGGCAGGAAAAGAAGCAAGTCTCGTTG\n",
      "   Fragmento 6: AATTCTTCTATACATTTAATGCCTTACTTGATGAATCTAAACAAATTATTTTAACGTCT\n",
      "   Fragmento 7: GATCGATATCCTAAAGAATTAACAGAACTT\n",
      "   Fragmento 8: GATCCTCGATTGGTTTCTCGTTTTTCCTGGGGGCTATCAGTAGGTGTTGAACCACCTGATATTGAAACTCGAATCGAAATTCTGCTTAAAAAAG\n",
      "   Fragmento 9: CTGAAAATAGTGGCGTTGATTTACCTAGAAACTGTGCGTTGTTTATTGCCCAACAAGTCGTAGCGAACGTACGTGAACTTGAGGGCGCACTGAATAAAGTTGTCGCAATTTCACGTTTTAAAGGTGCTCCAATTGACCTGGATGTCGTACGGGAATCTTTAAAAGATGTTTTAGC\n",
      "   Fragmento 10: GATCCGTGCTCGTACAATTAGTGTAGAAAATATCCAGCGTGTAGTGAGTGAATATTTCCG\n",
      "   Fragmento 11: AATTCCATTAAAAGAG\n",
      "   Fragmento 12: CTGGTAGGTCCAAAGCGTACCCGAATTTATGCTCGACCACGTCAGTTGGCGATGGGGCTTGCCCGTGAATTAACGGGGGATAGTTTTCCTGAAATTGGAATGGCTTTTGGTGGGCGT\n",
      "   Fragmento 13: GATCACAGTACAGTGATGCATGCTTGTGAAAAAGTCGTC\n",
      "\n",
      "4. Número y tamaño de cada fragmento:\n",
      "   Fragmento 1: 39 pb\n",
      "   Fragmento 2: 43 pb\n",
      "   Fragmento 3: 201 pb\n",
      "   Fragmento 4: 346 pb\n",
      "   Fragmento 5: 110 pb\n",
      "   Fragmento 6: 59 pb\n",
      "   Fragmento 7: 30 pb\n",
      "   Fragmento 8: 94 pb\n",
      "   Fragmento 9: 175 pb\n",
      "   Fragmento 10: 60 pb\n",
      "   Fragmento 11: 16 pb\n",
      "   Fragmento 12: 117 pb\n",
      "   Fragmento 13: 39 pb\n"
     ]
    }
   ],
   "source": [
    "enzR = {\n",
    "    'HindIII' : 'A*AGCTT',\n",
    "    'BamHI' : 'G*GATCC',\n",
    "    'AluI' : 'AG*CT',\n",
    "    'Sau3AI' : '*GATC',\n",
    "    'EcoRI' : 'G*AATTC'\n",
    "}\n",
    "def digestion_enzimatica(secuencia, enzimas):\n",
    "    # Limpiar la secuencia\n",
    "    secuencia = secuencia.strip()\n",
    "    \n",
    "    # Diccionarios para almacenar resultados\n",
    "    sitios_corte = {}  # Enzimas con sus posiciones de corte\n",
    "    sin_sitios = []    # Enzimas sin sitios de corte\n",
    "    \n",
    "    # Buscar sitios de corte para cada enzima\n",
    "    for enzima, sitio in enzimas.items():\n",
    "        # Convertir el patrón de la enzima a una expresión regular\n",
    "        patron = sitio.replace('*', '')  # Eliminar el * que marca el sitio de corte\n",
    "        posiciones = []\n",
    "        \n",
    "        # Buscar todas las ocurrencias\n",
    "        inicio = 0\n",
    "        while True:\n",
    "            pos = secuencia.find(patron, inicio)\n",
    "            if pos == -1:\n",
    "                break\n",
    "            # Ajustar la posición de corte según donde esté el * en el patrón original\n",
    "            corte = pos + sitio.index('*') if '*' in sitio else pos\n",
    "            posiciones.append(corte)\n",
    "            inicio = pos + 1\n",
    "            \n",
    "        if posiciones:\n",
    "            sitios_corte[enzima] = posiciones\n",
    "        else:\n",
    "            sin_sitios.append(enzima)\n",
    "    \n",
    "    # Realizar la digestión\n",
    "    puntos_corte = sorted(set([pos for posiciones in sitios_corte.values() for pos in posiciones]))\n",
    "    fragmentos = []\n",
    "    \n",
    "    # Obtener los fragmentos\n",
    "    inicio = 0\n",
    "    for corte in puntos_corte:\n",
    "        fragmentos.append(secuencia[inicio:corte])\n",
    "        inicio = corte\n",
    "    fragmentos.append(secuencia[inicio:])  # Último fragmento\n",
    "    \n",
    "    # Preparar el resultado\n",
    "    resultado = {\n",
    "        'enzimas_con_sitios': {enzima: posiciones for enzima, posiciones in sitios_corte.items()},\n",
    "        'enzimas_sin_sitios': sin_sitios,\n",
    "        'fragmentos': fragmentos,\n",
    "        'info_fragmentos': [(i+1, len(frag)) for i, frag in enumerate(fragmentos)]\n",
    "    }\n",
    "    \n",
    "    # Mostrar los resultados\n",
    "    print(\"1. Enzimas con sitios de corte y sus posiciones:\")\n",
    "    for enzima, posiciones in resultado['enzimas_con_sitios'].items():\n",
    "        print(f\"   {enzima}: posiciones {posiciones}\")\n",
    "    \n",
    "    print(\"\\n2. Enzimas sin sitios de corte:\")\n",
    "    print(\"   \" + \", \".join(resultado['enzimas_sin_sitios']) if resultado['enzimas_sin_sitios'] else \"   Ninguna\")\n",
    "    \n",
    "    print(\"\\n3. Fragmentos resultantes:\")\n",
    "    for i, fragmento in enumerate(resultado['fragmentos']):\n",
    "        print(f\"   Fragmento {i+1}: {fragmento}\")\n",
    "    \n",
    "    print(\"\\n4. Número y tamaño de cada fragmento:\")\n",
    "    for num, tamaño in resultado['info_fragmentos']:\n",
    "        print(f\"   Fragmento {num}: {tamaño} pb\")\n",
    "    \n",
    "    return resultado\n",
    "\n",
    "# Ejecutar la función con la secuencia y enzimas dadas\n",
    "resultado = digestion_enzimatica(secuencia, enzR)"
   ]
  },
  {
   "cell_type": "markdown",
   "id": "cae3c937",
   "metadata": {},
   "source": [
    "#### 8.- Realiza una función que mediante la introducción de una secuencia de ADN devuelva lo siguiente: (2pto)\n",
    "1. La secuencia traducida de proteína\n",
    "2. La longitud de la secuencia de ADN original y la longitud de la secuencia de proteínas final\n",
    "3. El porcentaje de aminoácidos aromáticos (en conjunto y por separado)\n"
   ]
  },
  {
   "cell_type": "code",
   "execution_count": 15,
   "id": "1c43d765",
   "metadata": {},
   "outputs": [
    {
     "name": "stdout",
     "output_type": "stream",
     "text": [
      "1. Secuencia de proteína:\n",
      "MLWTDCLTRLRQELSDNVFAMWIRPLVAEEVEGILRLYAPNPYWTRYIQENHLELISILAEQLSEGRVRQVEILVDSRPGSILSSSEQPATTTAALQTAPIPQPAKVKREPEPVANTAVSSKSSKKKLLNPQFTFSLFVEGRSNQMAAETCRKVLTQLGASQHNPLFLYGPTGLGKTHLMQAVGNALLQAKPNARVMYMTSESFVQDFVSSLQKGKVEEFKKNCRSLDLLLVDDIHLLAGKEASLVEFFYTFNALLDESKQIILTSDRYPKELTELDPRLVSRFSWGLSVGVEPPDIETRIEILLKKAENSGVDLPRNCALFIAQQVVANVRELEGALNKVVAISRFKGAPIDLDVVRESLKDVLAIRARTISVENIQRVVSEYFRIPLKELVGPKRTRIYARPRQLAMGLARELTGDSFPEIGMAFGGRDHSTVMHACEKVV\n",
      "\n",
      "2. Longitudes:\n",
      "ADN original: 1329 nucleótidos\n",
      "Proteína final: 443 aminoácidos\n",
      "\n",
      "3. Porcentaje de aminoácidos aromáticos:\n",
      "Total aromáticos: 6.77%\n",
      "Fenilalanina (F): 3.84%\n",
      "Triptófano (W): 0.90%\n",
      "Tirosina (Y): 2.03%\n"
     ]
    }
   ],
   "source": [
    "def traducir_adn(secuencia_adn):\n",
    "    # Diccionario del código genético\n",
    "    codigo_genetico = {\n",
    "        'ATA': 'I', 'ATC': 'I', 'ATT': 'I', 'ATG': 'M',\n",
    "        'ACA': 'T', 'ACC': 'T', 'ACG': 'T', 'ACT': 'T',\n",
    "        'AAC': 'N', 'AAT': 'N', 'AAA': 'K', 'AAG': 'K',\n",
    "        'AGC': 'S', 'AGT': 'S', 'AGA': 'R', 'AGG': 'R',\n",
    "        'CTA': 'L', 'CTC': 'L', 'CTG': 'L', 'CTT': 'L',\n",
    "        'CCA': 'P', 'CCC': 'P', 'CCG': 'P', 'CCT': 'P',\n",
    "        'CAC': 'H', 'CAT': 'H', 'CAA': 'Q', 'CAG': 'Q',\n",
    "        'CGA': 'R', 'CGC': 'R', 'CGG': 'R', 'CGT': 'R',\n",
    "        'GTA': 'V', 'GTC': 'V', 'GTG': 'V', 'GTT': 'V',\n",
    "        'GCA': 'A', 'GCC': 'A', 'GCG': 'A', 'GCT': 'A',\n",
    "        'GAC': 'D', 'GAT': 'D', 'GAA': 'E', 'GAG': 'E',\n",
    "        'GGA': 'G', 'GGC': 'G', 'GGG': 'G', 'GGT': 'G',\n",
    "        'TCA': 'S', 'TCC': 'S', 'TCG': 'S', 'TCT': 'S',\n",
    "        'TTC': 'F', 'TTT': 'F', 'TTA': 'L', 'TTG': 'L',\n",
    "        'TAC': 'Y', 'TAT': 'Y', 'TAA': '*', 'TAG': '*',\n",
    "        'TGC': 'C', 'TGT': 'C', 'TGA': '*', 'TGG': 'W'\n",
    "    }\n",
    "    \n",
    "    # Aminoácidos aromáticos (F: Fenilalanina, W: Triptófano, Y: Tirosina)\n",
    "    aromaticos = {'F', 'W', 'Y'}\n",
    "    \n",
    "    # Limpiar la secuencia\n",
    "    secuencia_adn = secuencia_adn.strip().upper()\n",
    "    \n",
    "    # Traducir a proteína\n",
    "    proteina = ''\n",
    "    for i in range(0, len(secuencia_adn)-2, 3):\n",
    "        codon = secuencia_adn[i:i+3]\n",
    "        if len(codon) == 3:  # Asegurarse de que es un codón completo\n",
    "            aminoacido = codigo_genetico.get(codon, 'X')\n",
    "            if aminoacido == '*':  # Codón de parada\n",
    "                break\n",
    "            proteina += aminoacido\n",
    "    \n",
    "    # Calcular estadísticas\n",
    "    long_adn = len(secuencia_adn)\n",
    "    long_proteina = len(proteina)\n",
    "    \n",
    "    # Contar aminoácidos aromáticos\n",
    "    count_F = proteina.count('F')\n",
    "    count_W = proteina.count('W')\n",
    "    count_Y = proteina.count('Y')\n",
    "    total_aromaticos = count_F + count_W + count_Y\n",
    "    \n",
    "    # Calcular porcentajes\n",
    "    if long_proteina > 0:\n",
    "        porcentaje_total = (total_aromaticos / long_proteina) * 100\n",
    "        porcentaje_F = (count_F / long_proteina) * 100\n",
    "        porcentaje_W = (count_W / long_proteina) * 100\n",
    "        porcentaje_Y = (count_Y / long_proteina) * 100\n",
    "    else:\n",
    "        porcentaje_total = porcentaje_F = porcentaje_W = porcentaje_Y = 0\n",
    "    \n",
    "    # Mostrar resultados\n",
    "    print(\"1. Secuencia de proteína:\")\n",
    "    print(proteina)\n",
    "    \n",
    "    print(\"\\n2. Longitudes:\")\n",
    "    print(f\"ADN original: {long_adn} nucleótidos\")\n",
    "    print(f\"Proteína final: {long_proteina} aminoácidos\")\n",
    "    \n",
    "    print(\"\\n3. Porcentaje de aminoácidos aromáticos:\")\n",
    "    print(f\"Total aromáticos: {porcentaje_total:.2f}%\")\n",
    "    print(f\"Fenilalanina (F): {porcentaje_F:.2f}%\")\n",
    "    print(f\"Triptófano (W): {porcentaje_W:.2f}%\")\n",
    "    print(f\"Tirosina (Y): {porcentaje_Y:.2f}%\")\n",
    "    \n",
    "    return {\n",
    "        'proteina': proteina,\n",
    "        'longitud_adn': long_adn,\n",
    "        'longitud_proteina': long_proteina,\n",
    "        'porcentajes_aromaticos': {\n",
    "            'total': porcentaje_total,\n",
    "            'F': porcentaje_F,\n",
    "            'W': porcentaje_W,\n",
    "            'Y': porcentaje_Y\n",
    "        }\n",
    "    }\n",
    "\n",
    "# Ejecutar la función con la secuencia\n",
    "resultado = traducir_adn(secuencia)"
   ]
  }
 ],
 "metadata": {
  "kernelspec": {
   "display_name": "Python 3 (ipykernel)",
   "language": "python",
   "name": "python3"
  },
  "language_info": {
   "codemirror_mode": {
    "name": "ipython",
    "version": 3
   },
   "file_extension": ".py",
   "mimetype": "text/x-python",
   "name": "python",
   "nbconvert_exporter": "python",
   "pygments_lexer": "ipython3",
   "version": "3.12.3"
  }
 },
 "nbformat": 4,
 "nbformat_minor": 5
}
